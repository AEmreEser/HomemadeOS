{
 "cells": [
  {
   "cell_type": "code",
   "execution_count": 1,
   "metadata": {},
   "outputs": [],
   "source": [
    "from icecream import ic"
   ]
  },
  {
   "cell_type": "code",
   "execution_count": 25,
   "metadata": {},
   "outputs": [
    {
     "name": "stderr",
     "output_type": "stream",
     "text": [
      "ic| hex(bx): '0x0'\n",
      "ic| cl: 12\n",
      "ic| bx: 0\n",
      "ic| hexbase[bx]: '0'\n",
      "ic| hex(bx): '0xc00'\n",
      "ic| cl: 8\n",
      "ic| bx: 12\n",
      "ic| hexbase[bx]: 'c'\n",
      "ic| hex(bx): '0xe0'\n",
      "ic| cl: 4\n",
      "ic| bx: 14\n",
      "ic| hexbase[bx]: 'e'\n",
      "ic| hex(bx): '0xf'\n",
      "ic| cl: 0\n",
      "ic| bx: 15\n",
      "ic| hexbase[bx]: 'f'\n"
     ]
    }
   ],
   "source": [
    "hexbase = \"0123456789abcdef\"\n",
    "ax = 0x0cef\n",
    "dx = 0xF000\n",
    "for cl in range(4):\n",
    "    bx = ax\n",
    "    bx = bx & dx\n",
    "    ic(hex(bx))\n",
    "    dx = dx >> 4\n",
    "    ch = cl\n",
    "    cl = cl - 4\n",
    "    cl = -1 * cl\n",
    "    cl = cl - 1\n",
    "    cl = cl << 2\n",
    "    ic(cl)\n",
    "    bx = bx >> cl\n",
    "    ic(bx)\n",
    "    ic(hexbase[bx])\n",
    "\n",
    "    cl = ch\n"
   ]
  },
  {
   "cell_type": "code",
   "execution_count": null,
   "metadata": {},
   "outputs": [],
   "source": []
  }
 ],
 "metadata": {
  "kernelspec": {
   "display_name": "Python 3",
   "language": "python",
   "name": "python3"
  },
  "language_info": {
   "codemirror_mode": {
    "name": "ipython",
    "version": 3
   },
   "file_extension": ".py",
   "mimetype": "text/x-python",
   "name": "python",
   "nbconvert_exporter": "python",
   "pygments_lexer": "ipython3",
   "version": "3.10.0"
  },
  "orig_nbformat": 4
 },
 "nbformat": 4,
 "nbformat_minor": 2
}
